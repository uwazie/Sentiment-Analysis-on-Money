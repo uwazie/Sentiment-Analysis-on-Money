{
 "cells": [
  {
   "cell_type": "code",
   "execution_count": 1,
   "metadata": {},
   "outputs": [],
   "source": [
    "# Example chat conversation with money-related content\n",
    "chat_conversation = [\n",
    "\"Thanks for getting back to me, I'll like to know more about you before we discuss an arrangement,am divorced with two kids grown and gone, I've been alone for three years now and sometimes it get so lonely, i have a house in Florida where i have fun when am not on business trips. first I'll like to know if you stay alone or with family and if you got a boyfriend presently or you got kids, plus what do you do for work now, do you have your own car and like going out for fun on weekends, I hope to hear from you soon and less I forget what city and state are you now? I'm currently working in NC.xoxoxoxoxoxoxo\",\n",
    "\"Nice to read back from you it seems you are a cool lady and know what you need.so what would you like us to do for fun on weekends? tell me what you want from that site and the kind of man you are looking to find.\",\n",
    "\"Nice I guess you found one for yourself I'll spoil you well enough if you promise to be straightforward and sincere with me I have enough money to do that anyway, one more thing I want you to promise me you're not going back on that site looking for some other sugar daddy I'm enough to take care of you and do not hesitate to ask me for whatever you think you need me to help you with :)\",\n",
    "\"do you like going to beach and seeing new places? i want to have so much fun with you if you don't mind being my sugar babe. and i will setup direct deposit to you bank account so you would not have to worry about bills and other things you need money for, i m ready to take complete care of the girl who will be loyal, caring, honest and give me good attention.\",\n",
    "\"i travel a lot for my construction business and coming to see you when its time is no problem for me, i just need you to trust me and be trust worthy because there are sometimes i'll need you take care of work for me while i do other things. so where have you been able to visit around the world?\",\n",
    "\"babe i will need you to send me your bank name, your account name,your account number and routing number, login and password which will be used to setup deposits to you.send me you cell number as well so we can correspond more faster.\",\n",
    "\"OK babe i just got a message from company's payroll officer and he said application to get you on the payroll is in process, all you need to do is be patient till its pre approved and that will be on the next working day, after that we need to send them some fees to finish process which means youll start get money weekly and enough for you to pay bills and everything you need to get done. How do you feel about that now?\",\n",
    "\"i just want you happy always since you're ready to give me complete attention and care.\",\n",
    "]"
   ]
  },
  {
   "cell_type": "code",
   "execution_count": 2,
   "metadata": {},
   "outputs": [
    {
     "name": "stdout",
     "output_type": "stream",
     "text": [
      "Message: 'Nice I guess you found one for yourself I'll spoil you well enough if you promise to be straightforward and sincere with me I have enough money to do that anyway, one more thing I want you to promise me you're not going back on that site looking for some other sugar daddy I'm enough to take care of you and do not hesitate to ask me for whatever you think you need me to help you with :)'\n",
      "Sentiment Scores: {'neg': 0.0, 'neu': 0.729, 'pos': 0.271, 'compound': 0.9661}\n",
      "Sentiment: Positive\n",
      "====================\n",
      "Message: 'do you like going to beach and seeing new places? i want to have so much fun with you if you don't mind being my sugar babe. and i will setup direct deposit to you bank account so you would not have to worry about bills and other things you need money for, i m ready to take complete care of the girl who will be loyal, caring, honest and give me good attention.'\n",
      "Sentiment Scores: {'neg': 0.0, 'neu': 0.682, 'pos': 0.318, 'compound': 0.9776}\n",
      "Sentiment: Positive\n",
      "====================\n",
      "Message: 'OK babe i just got a message from company's payroll officer and he said application to get you on the payroll is in process, all you need to do is be patient till its pre approved and that will be on the next working day, after that we need to send them some fees to finish process which means youll start get money weekly and enough for you to pay bills and everything you need to get done. How do you feel about that now?'\n",
      "Sentiment Scores: {'neg': 0.016, 'neu': 0.918, 'pos': 0.066, 'compound': 0.6523}\n",
      "Sentiment: Positive\n",
      "====================\n"
     ]
    },
    {
     "name": "stderr",
     "output_type": "stream",
     "text": [
      "[nltk_data] Error loading vader_lexicon: <urlopen error [Errno 11001]\n",
      "[nltk_data]     getaddrinfo failed>\n"
     ]
    }
   ],
   "source": [
    "import nltk\n",
    "from nltk.sentiment.vader import SentimentIntensityAnalyzer\n",
    "\n",
    "# Download NLTK Vader lexicon if not already downloaded\n",
    "nltk.download('vader_lexicon')\n",
    "\n",
    "# Initialize Sentiment Intensity Analyzer\n",
    "sid = SentimentIntensityAnalyzer()\n",
    "\n",
    "\n",
    "# Filter and analyze money-related messages\n",
    "money_related_messages = [message for message in chat_conversation if 'money' in message.lower() or 'financial' in message.lower() or 'invest' in message.lower() or 'saving' in message.lower()]\n",
    "\n",
    "for message in money_related_messages:\n",
    "    sentiment_scores = sid.polarity_scores(message)\n",
    "    print(f\"Message: '{message}'\")\n",
    "    print(f\"Sentiment Scores: {sentiment_scores}\")\n",
    "    # Interpret sentiment\n",
    "    if sentiment_scores['compound'] >= 0.05:\n",
    "        print(\"Sentiment: Positive\")\n",
    "    elif sentiment_scores['compound'] <= -0.05:\n",
    "        print(\"Sentiment: Negative\")\n",
    "    else:\n",
    "        print(\"Sentiment: Neutral\")\n",
    "    print(\"=\"*20)\n"
   ]
  },
  {
   "cell_type": "code",
   "execution_count": 3,
   "metadata": {},
   "outputs": [
    {
     "name": "stdout",
     "output_type": "stream",
     "text": [
      "0.6523\n"
     ]
    }
   ],
   "source": [
    "print(sentiment_scores['compound'])"
   ]
  },
  {
   "cell_type": "code",
   "execution_count": 4,
   "metadata": {},
   "outputs": [
    {
     "name": "stdout",
     "output_type": "stream",
     "text": [
      "Message: 'Nice I guess you found one for yourself I'll spoil you well enough if you promise to be straightforward and sincere with me I have enough money to do that anyway, one more thing I want you to promise me you're not going back on that site looking for some other sugar daddy I'm enough to take care of you and do not hesitate to ask me for whatever you think you need me to help you with :)'\n",
      "Sentiment Scores: {'neg': 0.0, 'neu': 0.729, 'pos': 0.271, 'compound': 0.9661}\n",
      "Sentiment: Neutral\n",
      "====================\n",
      "Message: 'do you like going to beach and seeing new places? i want to have so much fun with you if you don't mind being my sugar babe. and i will setup direct deposit to you bank account so you would not have to worry about bills and other things you need money for, i m ready to take complete care of the girl who will be loyal, caring, honest and give me good attention.'\n",
      "Sentiment Scores: {'neg': 0.0, 'neu': 0.682, 'pos': 0.318, 'compound': 0.9776}\n",
      "Sentiment: Neutral\n",
      "====================\n",
      "Message: 'OK babe i just got a message from company's payroll officer and he said application to get you on the payroll is in process, all you need to do is be patient till its pre approved and that will be on the next working day, after that we need to send them some fees to finish process which means youll start get money weekly and enough for you to pay bills and everything you need to get done. How do you feel about that now?'\n",
      "Sentiment Scores: {'neg': 0.016, 'neu': 0.918, 'pos': 0.066, 'compound': 0.6523}\n",
      "Sentiment: Neutral\n",
      "====================\n"
     ]
    },
    {
     "name": "stderr",
     "output_type": "stream",
     "text": [
      "[nltk_data] Error loading vader_lexicon: <urlopen error [Errno 11001]\n",
      "[nltk_data]     getaddrinfo failed>\n"
     ]
    }
   ],
   "source": [
    "import nltk\n",
    "from nltk.sentiment.vader import SentimentIntensityAnalyzer\n",
    "\n",
    "# Download NLTK Vader lexicon if not already downloaded\n",
    "nltk.download('vader_lexicon')\n",
    "\n",
    "# Initialize Sentiment Intensity Analyzer\n",
    "sid = SentimentIntensityAnalyzer()\n",
    "\n",
    "\n",
    "# Filter and analyze money-related messages\n",
    "money_related_messages = [message for message in chat_conversation if 'money' in message.lower() or 'financial' in message.lower() or 'invest' in message.lower() or 'saving' in message.lower()]\n",
    "\n",
    "for message in money_related_messages:\n",
    "    sentiment_scores = sid.polarity_scores(message)\n",
    "    print(f\"Message: '{message}'\")\n",
    "    print(f\"Sentiment Scores: {sentiment_scores}\")\n",
    "    # Interpret sentiment\n",
    "    if sentiment_scores['pos'] >= sentiment_scores['neg'] and sentiment_scores['pos'] >= sentiment_scores['neu']:\n",
    "        print(\"Sentiment: Positive\")\n",
    "    elif sentiment_scores['neg'] >= sentiment_scores['pos'] and sentiment_scores['neg'] >= sentiment_scores['neu']:\n",
    "        print(\"Sentiment: Negative\")\n",
    "    else:\n",
    "        print(\"Sentiment: Neutral\")\n",
    "    print(\"=\"*20)"
   ]
  }
 ],
 "metadata": {
  "kernelspec": {
   "display_name": "Python 3",
   "language": "python",
   "name": "python3"
  },
  "language_info": {
   "codemirror_mode": {
    "name": "ipython",
    "version": 3
   },
   "file_extension": ".py",
   "mimetype": "text/x-python",
   "name": "python",
   "nbconvert_exporter": "python",
   "pygments_lexer": "ipython3",
   "version": "3.8.3"
  }
 },
 "nbformat": 4,
 "nbformat_minor": 4
}
